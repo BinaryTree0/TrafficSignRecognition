{
 "cells": [
  {
   "cell_type": "code",
   "execution_count": 89,
   "metadata": {},
   "outputs": [],
   "source": [
    "from PIL import Image\n",
    "import matplotlib.pyplot as plt\n",
    "import numpy as np\n",
    "import pickle\n",
    "import Augmentor\n",
    "import os\n",
    "import shutil"
   ]
  },
  {
   "cell_type": "code",
   "execution_count": 90,
   "metadata": {},
   "outputs": [],
   "source": [
    "def unpickle_data(filename):\n",
    "    with open(filename, mode='rb') as f:\n",
    "        file = pickle.load(f)\n",
    "    return file['features'], file['labels']\n",
    "\n",
    "def pickle_data(X, y, filename):\n",
    "    data = {\n",
    "        \"features\":X,\n",
    "        \"labels\":y\n",
    "    }\n",
    "    with open(filename, 'wb') as handle:\n",
    "        pickle.dump(data, handle, protocol=pickle.HIGHEST_PROTOCOL)"
   ]
  },
  {
   "cell_type": "code",
   "execution_count": 91,
   "metadata": {},
   "outputs": [],
   "source": [
    "# Import original data\n",
    "X_train, y_train = unpickle_data(\"Data/Original/train.p\")"
   ]
  },
  {
   "cell_type": "code",
   "execution_count": 92,
   "metadata": {},
   "outputs": [
    {
     "data": {
      "image/png": "[encoded data removed]",
      "text/plain": [
       "<Figure size 1332x396 with 1 Axes>"
      ]
     },
     "metadata": {
      "needs_background": "light"
     },
     "output_type": "display_data"
    }
   ],
   "source": [
    "def plot_class_freq(y):\n",
    "    counts = np.bincount(y)\n",
    "    fig, ax = plt.subplots()\n",
    "    fig.set_size_inches(18.5, 5.5)\n",
    "    ax.bar(range(len(counts)), counts, 0.5, color='r')\n",
    "    ax.set_xlabel('Signs')\n",
    "    ax.set_xticks(np.arange(len(counts)))\n",
    "    ax.set_ylabel('Count')\n",
    "    ax.set_title('The count of each sign')\n",
    "    plt.show()\n",
    "\n",
    "plot_class_freq(y_train)"
   ]
  },
  {
   "cell_type": "markdown",
   "metadata": {},
   "source": [
    "# Manual data manipulation"
   ]
  },
  {
   "cell_type": "code",
   "execution_count": 93,
   "metadata": {},
   "outputs": [],
   "source": [
    "def horizontal_flip(X):\n",
    "    return X[:,:,::-1,:]\n",
    "\n",
    "def vertical_flip(X):\n",
    "    return X[:,::-1,:,:]\n",
    "\n",
    "def both_flip(X):\n",
    "    return X[:,::-1,::-1,:]\n",
    "\n",
    "def extend_dataset(X, y, fnc, a, b):\n",
    "    indexes = np.where(y == a)[0]\n",
    "    X_ = fnc(X[indexes])\n",
    "    y_ = np.full(len(indexes), b)\n",
    "    return X_, y_\n",
    "\n",
    "horizontally_flippable = [11, 12, 13, 15, 17, 18, 22, 26, 30, 35]\n",
    "vertically_flippable = [1, 5, 12, 15, 17]\n",
    "both_flippable = [17, 32, 40]\n",
    "cross_flippable = np.array([\n",
    "    [19, 20],\n",
    "    [33, 34],\n",
    "    [36, 37],\n",
    "    [38, 39]\n",
    "])"
   ]
  },
  {
   "cell_type": "code",
   "execution_count": 94,
   "metadata": {},
   "outputs": [],
   "source": [
    "X_copy, y_copy = X_train.copy(), y_train.copy()\n",
    "for i in horizontally_flippable:\n",
    "    X, y = extend_dataset(X_copy, y_copy, horizontal_flip,i,i)\n",
    "    X_train, y_train = np.concatenate((X_train, X), axis=0), np.concatenate((y_train, y), axis=0)\n",
    "\n",
    "for i in vertically_flippable:\n",
    "    X, y = extend_dataset(X_copy, y_copy, vertical_flip,i,i)\n",
    "    X_train, y_train = np.concatenate((X_train, X), axis=0), np.concatenate((y_train, y), axis=0) \n",
    "    \n",
    "for i in both_flippable:\n",
    "    X, y = extend_dataset(X_copy, y_copy, both_flip,i,i)\n",
    "    X_train, y_train = np.concatenate((X_train, X), axis=0), np.concatenate((y_train, y), axis=0)    \n",
    "\n",
    "for i,j in cross_flippable:\n",
    "    X, y = extend_dataset(X_copy, y_copy,horizontal_flip,i,j)\n",
    "    X_train, y_train = np.concatenate((X_train, X), axis=0), np.concatenate((y_train, y), axis=0)\n",
    "    X, y = extend_dataset(X_copy, y_copy,horizontal_flip,j,i)\n",
    "    X_train, y_train = np.concatenate((X_train, X), axis=0), np.concatenate((y_train, y), axis=0)"
   ]
  },
  {
   "cell_type": "code",
   "execution_count": 95,
   "metadata": {},
   "outputs": [
    {
     "data": {
      "image/png": "[encoded data removed]",
      "text/plain": [
       "<Figure size 1332x396 with 1 Axes>"
      ]
     },
     "metadata": {
      "needs_background": "light"
     },
     "output_type": "display_data"
    }
   ],
   "source": [
    "plot_class_freq(y_train)"
   ]
  },
  {
   "cell_type": "markdown",
   "metadata": {},
   "source": [
    "# Automatic data manipulation"
   ]
  },
  {
   "cell_type": "code",
   "execution_count": 96,
   "metadata": {},
   "outputs": [],
   "source": [
    "def save_images(root_path, X, y):\n",
    "    for i,array in enumerate(X):\n",
    "        folder_path = root_path + \"/class-\" + str(y[i])\n",
    "        if not os.path.isdir(folder_path):\n",
    "            os.makedirs(folder_path)\n",
    "        im_name = folder_path + \"/P\" + str(i) + \".png\"\n",
    "        im = Image.fromarray(array)\n",
    "        im.save(im_name)\n",
    "        \n",
    "def load_images(root_path):\n",
    "    X = []\n",
    "    y = []\n",
    "    class_paths = [x[0] for x in os.walk(root_path)][1:]\n",
    "    for path in class_paths:\n",
    "        image_paths = [x[2] for x in os.walk(path)][0]\n",
    "        label = int(path.split(\"class-\")[1])\n",
    "        for image_path in image_paths:\n",
    "            img = np.asarray(Image.open(path+'/'+image_path))\n",
    "            X.append(img)\n",
    "            y.append(label)\n",
    "    return np.array(X),np.array(y)"
   ]
  },
  {
   "cell_type": "code",
   "execution_count": 97,
   "metadata": {},
   "outputs": [],
   "source": [
    "def augment_dataset(X, y, root_name, n_samples_per_class = 2000):\n",
    "    output_width, output_height = 32, 32    \n",
    "\n",
    "    number_of_classes = np.bincount(y_train)\n",
    "\n",
    "    for label in range(43): \n",
    "        n_original = number_of_classes[label]\n",
    "        directory = root_name+\"/class-\" + str(label)\n",
    "        if n_original>n_samples_per_class:\n",
    "            continue\n",
    "        p = Augmentor.Pipeline(directory, output_directory=directory)\n",
    "        p.skew(probability=0.2)\n",
    "        p.rotate(probability=0.2, max_left_rotation=10, max_right_rotation=10)\n",
    "        p.random_distortion(probability = 0.2, grid_width = int(output_width * 0.9) , grid_height = int(output_height * 0.9), magnitude = 1)\n",
    "        p.random_brightness(probability = 0.2, min_factor = 0.8, max_factor = 1.6)\n",
    "        p.random_contrast(probability = 0.2, min_factor = 0.8, max_factor = 1.0)\n",
    "        p.random_erasing(probability= 0.1, rectangle_area = 0.2)\n",
    "        p.sample(n_samples_per_class - n_original)"
   ]
  },
  {
   "cell_type": "code",
   "execution_count": null,
   "metadata": {
    "scrolled": true
   },
   "outputs": [],
   "source": [
    "root_name = os.getcwd()+\"/original-train-images\"\n",
    "\n",
    "# We have to save the images to a folder because the augment library needs to have\n",
    "# the images saved in a file to be able to work with them\n",
    "\n",
    "save_images(root_name, X_train, y_train)\n",
    "augment_dataset(X_train, y_train, root_name)\n",
    "\n",
    "# After the augmentation is complete load the images into numpy so we can save them \n",
    "# in pickle format which is the native format we used for loading images in this project.\n",
    "X_extended_train, y_extended_train = load_images(root_name)\n",
    "shutil.rmtree(root_name)"
   ]
  },
  {
   "cell_type": "code",
   "execution_count": 99,
   "metadata": {},
   "outputs": [
    {
     "data": {
      "image/png": "[encoded data removed]",
      "text/plain": [
       "<Figure size 1332x396 with 1 Axes>"
      ]
     },
     "metadata": {
      "needs_background": "light"
     },
     "output_type": "display_data"
    }
   ],
   "source": [
    "plot_class_freq(y_extended_train)"
   ]
  },
  {
   "cell_type": "markdown",
   "metadata": {},
   "source": [
    "# Contrast Limited Adaptive Histogram Equalization"
   ]
  },
  {
   "cell_type": "code",
   "execution_count": 100,
   "metadata": {},
   "outputs": [],
   "source": [
    "import cv2"
   ]
  },
  {
   "cell_type": "code",
   "execution_count": 101,
   "metadata": {},
   "outputs": [],
   "source": [
    "def improve_contrast_image_using_clahe(img: np.array) -> np.array:\n",
    "    img = cv2.cvtColor(img, cv2.COLOR_BGR2HSV)\n",
    "    hsv_planes = cv2.split(img)\n",
    "    clahe = cv2.createCLAHE(clipLimit=2, tileGridSize=(3, 3))\n",
    "    hsv_planes[2] = clahe.apply(hsv_planes[2])\n",
    "    img = cv2.merge(hsv_planes)\n",
    "    img = cv2.cvtColor(img, cv2.COLOR_HSV2BGR)\n",
    "    return img"
   ]
  },
  {
   "cell_type": "code",
   "execution_count": 115,
   "metadata": {
    "scrolled": true
   },
   "outputs": [
    {
     "data": {
      "text/plain": [
       "<matplotlib.image.AxesImage at 0x7f854f26f898>"
      ]
     },
     "execution_count": 115,
     "metadata": {},
     "output_type": "execute_result"
    },
    {
     "data": {
      "image/png": "[encoded data removed]",
      "text/plain": [
       "<Figure size 432x288 with 2 Axes>"
      ]
     },
     "metadata": {
      "needs_background": "light"
     },
     "output_type": "display_data"
    }
   ],
   "source": [
    "example = 10000\n",
    "fig, ax = plt.subplots(1, 2)\n",
    "fig.suptitle('Horizontally stacked subplots')\n",
    "ax[0].imshow(X_train[example])\n",
    "ax[1].imshow(improve_contrast_image_using_clahe(X_train[example]))"
   ]
  },
  {
   "cell_type": "code",
   "execution_count": 103,
   "metadata": {},
   "outputs": [],
   "source": [
    "def apply_clahe(X):\n",
    "    X_final = []\n",
    "    for image in X:\n",
    "        X_final.append(improve_contrast_image_using_clahe(image))\n",
    "    return np.array(X_final)"
   ]
  },
  {
   "cell_type": "code",
   "execution_count": 104,
   "metadata": {},
   "outputs": [],
   "source": [
    "X_final_train = apply_clahe(X_extended_train)\n",
    "pickle_data(X_final_train, y_extended_train, \"Data/Preprocessed/train.p\")"
   ]
  },
  {
   "cell_type": "code",
   "execution_count": 105,
   "metadata": {},
   "outputs": [],
   "source": [
    "X_valid, y_valid = unpickle_data(\"Data/Original/valid.p\")\n",
    "X_final_valid = apply_clahe(X_valid)\n",
    "pickle_data(X_final_valid, y_valid, \"Data/Preprocessed/valid.p\")"
   ]
  },
  {
   "cell_type": "code",
   "execution_count": 106,
   "metadata": {},
   "outputs": [],
   "source": [
    "X_test, y_test = unpickle_data(\"Data/Original/test.p\")\n",
    "X_final_test = apply_clahe(X_test)\n",
    "pickle_data(X_final_test, y_test, \"Data/Preprocessed/test.p\")"
   ]
  }
 ],
 "metadata": {
  "kernelspec": {
   "display_name": "Python 3",
   "language": "python",
   "name": "python3"
  },
  "language_info": {
   "codemirror_mode": {
    "name": "ipython",
    "version": 3
   },
   "file_extension": ".py",
   "mimetype": "text/x-python",
   "name": "python",
   "nbconvert_exporter": "python",
   "pygments_lexer": "ipython3",
   "version": "3.7.3"
  }
 },
 "nbformat": 4,
 "nbformat_minor": 2
}
