{
 "cells": [
  {
   "cell_type": "code",
   "execution_count": 89,
   "metadata": {},
   "outputs": [],
   "source": [
    "from PIL import Image\n",
    "import matplotlib.pyplot as plt\n",
    "import numpy as np\n",
    "import pickle\n",
    "import Augmentor\n",
    "import os\n",
    "import shutil"
   ]
  },
  {
   "cell_type": "code",
   "execution_count": 90,
   "metadata": {},
   "outputs": [],
   "source": [
    "def unpickle_data(filename):\n",
    "    with open(filename, mode='rb') as f:\n",
    "        file = pickle.load(f)\n",
    "    return file['features'], file['labels']\n",
    "\n",
    "def pickle_data(X, y, filename):\n",
    "    data = {\n",
    "        \"features\":X,\n",
    "        \"labels\":y\n",
    "    }\n",
    "    with open(filename, 'wb') as handle:\n",
    "        pickle.dump(data, handle, protocol=pickle.HIGHEST_PROTOCOL)"
   ]
  },
  {
   "cell_type": "code",
   "execution_count": 91,
   "metadata": {},
   "outputs": [],
   "source": [
    "# Import original data\n",
    "X_train, y_train = unpickle_data(\"Data/Original/train.p\")"
   ]
  },
  {
   "cell_type": "code",
   "execution_count": 92,
   "metadata": {},
   "outputs": [
    {
     "data": {
      "image/png": "[encoded data removed]",
      "text/plain": [
       "<Figure size 1332x396 with 1 Axes>"
      ]
     },
     "metadata": {
      "needs_background": "light"
     },
     "output_type": "display_data"
    }
   ],
   "source": [
    "def plot_class_freq(y):\n",
    "    counts = np.bincount(y)\n",
    "    fig, ax = plt.subplots()\n",
    "    fig.set_size_inches(18.5, 5.5)\n",
    "    ax.bar(range(len(counts)), counts, 0.5, color='r')\n",
    "    ax.set_xlabel('Signs')\n",
    "    ax.set_xticks(np.arange(len(counts)))\n",
    "    ax.set_ylabel('Count')\n",
    "    ax.set_title('The count of each sign')\n",
    "    plt.show()\n",
    "\n",
    "plot_class_freq(y_train)"
   ]
  },
  {
   "cell_type": "markdown",
   "metadata": {},
   "source": [
    "# Manual data manipulation"
   ]
  },
  {
   "cell_type": "code",
   "execution_count": 93,
   "metadata": {},
   "outputs": [],
   "source": [
    "def horizontal_flip(X):\n",
    "    return X[:,:,::-1,:]\n",
    "\n",
    "def vertical_flip(X):\n",
    "    return X[:,::-1,:,:]\n",
    "\n",
    "def both_flip(X):\n",
    "    return X[:,::-1,::-1,:]\n",
    "\n",
    "def extend_dataset(X, y, fnc, a, b):\n",
    "    indexes = np.where(y == a)[0]\n",
    "    X_ = fnc(X[indexes])\n",
    "    y_ = np.full(len(indexes), b)\n",
    "    return X_, y_\n",
    "\n",
    "horizontally_flippable = [11, 12, 13, 15, 17, 18, 22, 26, 30, 35]\n",
    "vertically_flippable = [1, 5, 12, 15, 17]\n",
    "both_flippable = [17, 32, 40]\n",
    "cross_flippable = np.array([\n",
    "    [19, 20],\n",
    "    [33, 34],\n",
    "    [36, 37],\n",
    "    [38, 39]\n",
    "])"
   ]
  },
  {
   "cell_type": "code",
   "execution_count": 94,
   "metadata": {},
   "outputs": [],
   "source": [
    "X_copy, y_copy = X_train.copy(), y_train.copy()\n",
    "for i in horizontally_flippable:\n",
    "    X, y = extend_dataset(X_copy, y_copy, horizontal_flip,i,i)\n",
    "    X_train, y_train = np.concatenate((X_train, X), axis=0), np.concatenate((y_train, y), axis=0)\n",
    "\n",
    "for i in vertically_flippable:\n",
    "    X, y = extend_dataset(X_copy, y_copy, vertical_flip,i,i)\n",
    "    X_train, y_train = np.concatenate((X_train, X), axis=0), np.concatenate((y_train, y), axis=0) \n",
    "    \n",
    "for i in both_flippable:\n",
    "    X, y = extend_dataset(X_copy, y_copy, both_flip,i,i)\n",
    "    X_train, y_train = np.concatenate((X_train, X), axis=0), np.concatenate((y_train, y), axis=0)    \n",
    "\n",
    "for i,j in cross_flippable:\n",
    "    X, y = extend_dataset(X_copy, y_copy,horizontal_flip,i,j)\n",
    "    X_train, y_train = np.concatenate((X_train, X), axis=0), np.concatenate((y_train, y), axis=0)\n",
    "    X, y = extend_dataset(X_copy, y_copy,horizontal_flip,j,i)\n",
    "    X_train, y_train = np.concatenate((X_train, X), axis=0), np.concatenate((y_train, y), axis=0)"
   ]
  },
  {
   "cell_type": "code",
   "execution_count": 95,
   "metadata": {},
   "outputs": [
    {
     "data": {
      "image/png": "[encoded data removed]",
      "text/plain": [
       "<Figure size 1332x396 with 1 Axes>"
      ]
     },
     "metadata": {
      "needs_background": "light"
     },
     "output_type": "display_data"
    }
   ],
   "source": [
    "plot_class_freq(y_train)"
   ]
  },
  {
   "cell_type": "markdown",
   "metadata": {},
   "source": [
    "# Automatic data manipulation"
   ]
  },
  {
   "cell_type": "code",
   "execution_count": 96,
   "metadata": {},
   "outputs": [],
   "source": [
    "def save_images(root_path, X, y):\n",
    "    for i,array in enumerate(X):\n",
    "        folder_path = root_path + \"/class-\" + str(y[i])\n",
    "        if not os.path.isdir(folder_path):\n",
    "            os.makedirs(folder_path)\n",
    "        im_name = folder_path + \"/P\" + str(i) + \".png\"\n",
    "        im = Image.fromarray(array)\n",
    "        im.save(im_name)\n",
    "        \n",
    "def load_images(root_path):\n",
    "    X = []\n",
    "    y = []\n",
    "    class_paths = [x[0] for x in os.walk(root_path)][1:]\n",
    "    for path in class_paths:\n",
    "        image_paths = [x[2] for x in os.walk(path)][0]\n",
    "        label = int(path.split(\"class-\")[1])\n",
    "        for image_path in image_paths:\n",
    "            img = np.asarray(Image.open(path+'/'+image_path))\n",
    "            X.append(img)\n",
    "            y.append(label)\n",
    "    return np.array(X),np.array(y)"
   ]
  },
  {
   "cell_type": "code",
   "execution_count": 97,
   "metadata": {},
   "outputs": [],
   "source": [
    "def augment_dataset(X, y, root_name, n_samples_per_class = 2000):\n",
    "    output_width, output_height = 32, 32    \n",
    "\n",
    "    number_of_classes = np.bincount(y_train)\n",
    "\n",
    "    for label in range(43): \n",
    "        n_original = number_of_classes[label]\n",
    "        directory = root_name+\"/class-\" + str(label)\n",
    "        if n_original>n_samples_per_class:\n",
    "            continue\n",
    "        p = Augmentor.Pipeline(directory, output_directory=directory)\n",
    "        p.skew(probability=0.2)\n",
    "        p.rotate(probability=0.2, max_left_rotation=10, max_right_rotation=10)\n",
    "        p.random_distortion(probability = 0.2, grid_width = int(output_width * 0.9) , grid_height = int(output_height * 0.9), magnitude = 1)\n",
    "        p.random_brightness(probability = 0.2, min_factor = 0.8, max_factor = 1.6)\n",
    "        p.random_contrast(probability = 0.2, min_factor = 0.8, max_factor = 1.0)\n",
    "        p.random_erasing(probability= 0.1, rectangle_area = 0.2)\n",
    "        p.sample(n_samples_per_class - n_original)"
   ]
  },
  {
   "cell_type": "code",
   "execution_count": 98,
   "metadata": {
    "scrolled": true
   },
   "outputs": [
    {
     "name": "stderr",
     "output_type": "stream",
     "text": [
      "\r",
      "Executing Pipeline:   0%|          | 0/1820 [00:00<?, ? Samples/s]"
     ]
    },
    {
     "name": "stdout",
     "output_type": "stream",
     "text": [
      "Initialised with 180 image(s) found.\n",
      "Output directory set to /home/filip/Desktop/NEUMRE/Projekt/original-train-images/class-0."
     ]
    },
    {
     "name": "stderr",
     "output_type": "stream",
     "text": [
      "Processing <PIL.Image.Image image mode=RGB size=32x32 at 0x7F854F75F048>: 100%|██████████| 1820/1820 [00:13<00:00, 130.68 Samples/s]                \n",
      "Processing <PIL.Image.Image image mode=RGB size=32x32 at 0x7F854F6E12E8>:   0%|          | 0/740 [00:00<?, ? Samples/s]"
     ]
    },
    {
     "name": "stdout",
     "output_type": "stream",
     "text": [
      "Initialised with 1260 image(s) found.\n",
      "Output directory set to /home/filip/Desktop/NEUMRE/Projekt/original-train-images/class-3."
     ]
    },
    {
     "name": "stderr",
     "output_type": "stream",
     "text": [
      "Processing <PIL.Image.Image image mode=RGB size=32x32 at 0x7F853D398390>: 100%|██████████| 740/740 [00:07<00:00, 100.67 Samples/s]                \n",
      "Processing <PIL.Image.Image image mode=RGB size=32x32 at 0x7F854F75FDD8>:   0%|          | 0/230 [00:00<?, ? Samples/s]"
     ]
    },
    {
     "name": "stdout",
     "output_type": "stream",
     "text": [
      "Initialised with 1770 image(s) found.\n",
      "Output directory set to /home/filip/Desktop/NEUMRE/Projekt/original-train-images/class-4."
     ]
    },
    {
     "name": "stderr",
     "output_type": "stream",
     "text": [
      "Processing <PIL.Image.Image image mode=RGB size=32x32 at 0x7F854F682390>: 100%|██████████| 230/230 [00:02<00:00, 107.33 Samples/s]               \n",
      "Processing <PIL.Image.Image image mode=RGB size=32x32 at 0x7F853D3ACC18>:   0%|          | 0/1640 [00:00<?, ? Samples/s]"
     ]
    },
    {
     "name": "stdout",
     "output_type": "stream",
     "text": [
      "Initialised with 360 image(s) found.\n",
      "Output directory set to /home/filip/Desktop/NEUMRE/Projekt/original-train-images/class-6."
     ]
    },
    {
     "name": "stderr",
     "output_type": "stream",
     "text": [
      "Processing <PIL.Image.Image image mode=RGB size=32x32 at 0x7F854F6C1390>: 100%|██████████| 1640/1640 [00:12<00:00, 126.58 Samples/s]                \n",
      "Executing Pipeline:   0%|          | 0/710 [00:00<?, ? Samples/s]"
     ]
    },
    {
     "name": "stdout",
     "output_type": "stream",
     "text": [
      "Initialised with 1290 image(s) found.\n",
      "Output directory set to /home/filip/Desktop/NEUMRE/Projekt/original-train-images/class-7."
     ]
    },
    {
     "name": "stderr",
     "output_type": "stream",
     "text": [
      "Processing <PIL.Image.Image image mode=RGB size=32x32 at 0x7F854F55EBE0>: 100%|██████████| 710/710 [00:04<00:00, 148.34 Samples/s]                \n",
      "Executing Pipeline:   0%|          | 0/740 [00:00<?, ? Samples/s]"
     ]
    },
    {
     "name": "stdout",
     "output_type": "stream",
     "text": [
      "Initialised with 1260 image(s) found.\n",
      "Output directory set to /home/filip/Desktop/NEUMRE/Projekt/original-train-images/class-8."
     ]
    },
    {
     "name": "stderr",
     "output_type": "stream",
     "text": [
      "Processing <PIL.Image.Image image mode=RGB size=32x32 at 0x7F8544B61F60>: 100%|██████████| 740/740 [00:05<00:00, 137.64 Samples/s]                \n",
      "Processing <PIL.Image.Image image mode=RGB size=32x32 at 0x7F853D4282B0>:   0%|          | 1/680 [00:00<01:56,  5.83 Samples/s]"
     ]
    },
    {
     "name": "stdout",
     "output_type": "stream",
     "text": [
      "Initialised with 1320 image(s) found.\n",
      "Output directory set to /home/filip/Desktop/NEUMRE/Projekt/original-train-images/class-9."
     ]
    },
    {
     "name": "stderr",
     "output_type": "stream",
     "text": [
      "Processing <PIL.PngImagePlugin.PngImageFile image mode=RGB size=32x32 at 0x7F8540591D30>: 100%|██████████| 680/680 [00:04<00:00, 141.98 Samples/s]\n",
      "Executing Pipeline:   0%|          | 0/200 [00:00<?, ? Samples/s]"
     ]
    },
    {
     "name": "stdout",
     "output_type": "stream",
     "text": [
      "Initialised with 1800 image(s) found.\n",
      "Output directory set to /home/filip/Desktop/NEUMRE/Projekt/original-train-images/class-10."
     ]
    },
    {
     "name": "stderr",
     "output_type": "stream",
     "text": [
      "Processing <PIL.Image.Image image mode=RGB size=32x32 at 0x7F854F55EFD0>: 100%|██████████| 200/200 [00:02<00:00, 97.33 Samples/s]                \n",
      "Processing <PIL.Image.Image image mode=RGB size=32x32 at 0x7F8534092828>:   0%|          | 0/1310 [00:00<?, ? Samples/s]"
     ]
    },
    {
     "name": "stdout",
     "output_type": "stream",
     "text": [
      "Initialised with 690 image(s) found.\n",
      "Output directory set to /home/filip/Desktop/NEUMRE/Projekt/original-train-images/class-14."
     ]
    },
    {
     "name": "stderr",
     "output_type": "stream",
     "text": [
      "Processing <PIL.PngImagePlugin.PngImageFile image mode=RGB size=32x32 at 0x7F854F707CC0>: 100%|██████████| 1310/1310 [00:10<00:00, 123.26 Samples/s]\n",
      "Executing Pipeline:   0%|          | 0/380 [00:00<?, ? Samples/s]"
     ]
    },
    {
     "name": "stdout",
     "output_type": "stream",
     "text": [
      "Initialised with 1620 image(s) found.\n",
      "Output directory set to /home/filip/Desktop/NEUMRE/Projekt/original-train-images/class-15."
     ]
    },
    {
     "name": "stderr",
     "output_type": "stream",
     "text": [
      "Processing <PIL.Image.Image image mode=RGB size=32x32 at 0x7F854F70A978>: 100%|██████████| 380/380 [00:02<00:00, 152.15 Samples/s]               \n",
      "Executing Pipeline:   0%|          | 0/1640 [00:00<?, ? Samples/s]"
     ]
    },
    {
     "name": "stdout",
     "output_type": "stream",
     "text": [
      "Initialised with 360 image(s) found.\n",
      "Output directory set to /home/filip/Desktop/NEUMRE/Projekt/original-train-images/class-16."
     ]
    },
    {
     "name": "stderr",
     "output_type": "stream",
     "text": [
      "Processing <PIL.Image.Image image mode=RGB size=32x32 at 0x7F854F3D36A0>: 100%|██████████| 1640/1640 [00:11<00:00, 137.92 Samples/s]                \n",
      "Executing Pipeline:   0%|          | 0/1520 [00:00<?, ? Samples/s]"
     ]
    },
    {
     "name": "stdout",
     "output_type": "stream",
     "text": [
      "Initialised with 480 image(s) found.\n",
      "Output directory set to /home/filip/Desktop/NEUMRE/Projekt/original-train-images/class-19."
     ]
    },
    {
     "name": "stderr",
     "output_type": "stream",
     "text": [
      "Processing <PIL.Image.Image image mode=RGB size=32x32 at 0x7F85340AAD30>: 100%|██████████| 1520/1520 [00:10<00:00, 139.60 Samples/s]                \n",
      "Executing Pipeline:   0%|          | 0/1520 [00:00<?, ? Samples/s]"
     ]
    },
    {
     "name": "stdout",
     "output_type": "stream",
     "text": [
      "Initialised with 480 image(s) found.\n",
      "Output directory set to /home/filip/Desktop/NEUMRE/Projekt/original-train-images/class-20."
     ]
    },
    {
     "name": "stderr",
     "output_type": "stream",
     "text": [
      "Processing <PIL.Image.Image image mode=RGB size=32x32 at 0x7F854F6A5550>: 100%|██████████| 1520/1520 [00:13<00:00, 114.60 Samples/s]                \n",
      "Processing <PIL.Image.Image image mode=RGB size=32x32 at 0x7F854F7063C8>:   0%|          | 0/1730 [00:00<?, ? Samples/s]"
     ]
    },
    {
     "name": "stdout",
     "output_type": "stream",
     "text": [
      "Initialised with 270 image(s) found.\n",
      "Output directory set to /home/filip/Desktop/NEUMRE/Projekt/original-train-images/class-21."
     ]
    },
    {
     "name": "stderr",
     "output_type": "stream",
     "text": [
      "Processing <PIL.PngImagePlugin.PngImageFile image mode=RGB size=32x32 at 0x7F854F7B2E10>: 100%|██████████| 1730/1730 [00:12<00:00, 143.66 Samples/s]\n",
      "Executing Pipeline:   0%|          | 0/1340 [00:00<?, ? Samples/s]"
     ]
    },
    {
     "name": "stdout",
     "output_type": "stream",
     "text": [
      "Initialised with 660 image(s) found.\n",
      "Output directory set to /home/filip/Desktop/NEUMRE/Projekt/original-train-images/class-22."
     ]
    },
    {
     "name": "stderr",
     "output_type": "stream",
     "text": [
      "Processing <PIL.Image.Image image mode=RGB size=32x32 at 0x7F854F023278>: 100%|██████████| 1340/1340 [00:09<00:00, 143.78 Samples/s]                \n",
      "Executing Pipeline:   0%|          | 0/1550 [00:00<?, ? Samples/s]"
     ]
    },
    {
     "name": "stdout",
     "output_type": "stream",
     "text": [
      "Initialised with 450 image(s) found.\n",
      "Output directory set to /home/filip/Desktop/NEUMRE/Projekt/original-train-images/class-23."
     ]
    },
    {
     "name": "stderr",
     "output_type": "stream",
     "text": [
      "Processing <PIL.Image.Image image mode=RGB size=32x32 at 0x7F8543B02BA8>: 100%|██████████| 1550/1550 [00:11<00:00, 131.82 Samples/s]                \n",
      "Executing Pipeline:   0%|          | 0/1760 [00:00<?, ? Samples/s]"
     ]
    },
    {
     "name": "stdout",
     "output_type": "stream",
     "text": [
      "Initialised with 240 image(s) found.\n",
      "Output directory set to /home/filip/Desktop/NEUMRE/Projekt/original-train-images/class-24."
     ]
    },
    {
     "name": "stderr",
     "output_type": "stream",
     "text": [
      "Processing <PIL.PngImagePlugin.PngImageFile image mode=RGB size=32x32 at 0x7F854F71ACF8>: 100%|██████████| 1760/1760 [00:16<00:00, 106.45 Samples/s]\n",
      "Processing <PIL.Image.Image image mode=RGB size=32x32 at 0x7F854F69A908>:   0%|          | 1/650 [00:00<01:47,  6.05 Samples/s]"
     ]
    },
    {
     "name": "stdout",
     "output_type": "stream",
     "text": [
      "Initialised with 1350 image(s) found.\n",
      "Output directory set to /home/filip/Desktop/NEUMRE/Projekt/original-train-images/class-25."
     ]
    },
    {
     "name": "stderr",
     "output_type": "stream",
     "text": [
      "Processing <PIL.Image.Image image mode=RGB size=32x32 at 0x7F854F6B16A0>: 100%|██████████| 650/650 [00:05<00:00, 120.49 Samples/s]                \n",
      "Processing <PIL.Image.Image image mode=RGB size=32x32 at 0x7F854F411A90>:   0%|          | 1/920 [00:00<02:46,  5.53 Samples/s]"
     ]
    },
    {
     "name": "stdout",
     "output_type": "stream",
     "text": [
      "Initialised with 1080 image(s) found.\n",
      "Output directory set to /home/filip/Desktop/NEUMRE/Projekt/original-train-images/class-26."
     ]
    },
    {
     "name": "stderr",
     "output_type": "stream",
     "text": [
      "Processing <PIL.Image.Image image mode=RGB size=32x32 at 0x7F854F6A8160>: 100%|██████████| 920/920 [00:07<00:00, 124.54 Samples/s]                \n",
      "Processing <PIL.Image.Image image mode=RGB size=32x32 at 0x7F854F4BAB38>:   0%|          | 1/1790 [00:00<05:14,  5.68 Samples/s]"
     ]
    },
    {
     "name": "stdout",
     "output_type": "stream",
     "text": [
      "Initialised with 210 image(s) found.\n",
      "Output directory set to /home/filip/Desktop/NEUMRE/Projekt/original-train-images/class-27."
     ]
    },
    {
     "name": "stderr",
     "output_type": "stream",
     "text": [
      "Processing <PIL.Image.Image image mode=RGB size=32x32 at 0x7F854F724048>: 100%|██████████| 1790/1790 [00:13<00:00, 130.39 Samples/s]                \n",
      "Executing Pipeline:   0%|          | 0/1520 [00:00<?, ? Samples/s]"
     ]
    },
    {
     "name": "stdout",
     "output_type": "stream",
     "text": [
      "Initialised with 480 image(s) found.\n",
      "Output directory set to /home/filip/Desktop/NEUMRE/Projekt/original-train-images/class-28."
     ]
    },
    {
     "name": "stderr",
     "output_type": "stream",
     "text": [
      "Processing <PIL.Image.Image image mode=RGB size=32x32 at 0x7F854F49D048>: 100%|██████████| 1520/1520 [00:13<00:00, 113.93 Samples/s]                \n",
      "Executing Pipeline:   0%|          | 0/1760 [00:00<?, ? Samples/s]"
     ]
    },
    {
     "name": "stdout",
     "output_type": "stream",
     "text": [
      "Initialised with 240 image(s) found.\n",
      "Output directory set to /home/filip/Desktop/NEUMRE/Projekt/original-train-images/class-29."
     ]
    },
    {
     "name": "stderr",
     "output_type": "stream",
     "text": [
      "Processing <PIL.PngImagePlugin.PngImageFile image mode=RGB size=32x32 at 0x7F854F6B8208>: 100%|██████████| 1760/1760 [00:15<00:00, 115.23 Samples/s]\n",
      "Executing Pipeline:   0%|          | 0/1220 [00:00<?, ? Samples/s]"
     ]
    },
    {
     "name": "stdout",
     "output_type": "stream",
     "text": [
      "Initialised with 780 image(s) found.\n",
      "Output directory set to /home/filip/Desktop/NEUMRE/Projekt/original-train-images/class-30."
     ]
    },
    {
     "name": "stderr",
     "output_type": "stream",
     "text": [
      "Processing <PIL.Image.Image image mode=RGB size=32x32 at 0x7F8544B78C50>: 100%|██████████| 1220/1220 [00:09<00:00, 125.97 Samples/s]                \n",
      "Executing Pipeline:   0%|          | 0/1310 [00:00<?, ? Samples/s]"
     ]
    },
    {
     "name": "stdout",
     "output_type": "stream",
     "text": [
      "Initialised with 690 image(s) found.\n",
      "Output directory set to /home/filip/Desktop/NEUMRE/Projekt/original-train-images/class-31."
     ]
    },
    {
     "name": "stderr",
     "output_type": "stream",
     "text": [
      "Processing <PIL.Image.Image image mode=RGB size=32x32 at 0x7F854F440C18>: 100%|██████████| 1310/1310 [00:12<00:00, 108.99 Samples/s]                \n",
      "Executing Pipeline:   0%|          | 0/1580 [00:00<?, ? Samples/s]"
     ]
    },
    {
     "name": "stdout",
     "output_type": "stream",
     "text": [
      "Initialised with 420 image(s) found.\n",
      "Output directory set to /home/filip/Desktop/NEUMRE/Projekt/original-train-images/class-32."
     ]
    },
    {
     "name": "stderr",
     "output_type": "stream",
     "text": [
      "Processing <PIL.Image.Image image mode=RGB size=32x32 at 0x7F854F6E6780>: 100%|██████████| 1580/1580 [00:15<00:00, 102.07 Samples/s]                \n",
      "Executing Pipeline:   0%|          | 0/1041 [00:00<?, ? Samples/s]"
     ]
    },
    {
     "name": "stdout",
     "output_type": "stream",
     "text": [
      "Initialised with 959 image(s) found.\n",
      "Output directory set to /home/filip/Desktop/NEUMRE/Projekt/original-train-images/class-33."
     ]
    },
    {
     "name": "stderr",
     "output_type": "stream",
     "text": [
      "Processing <PIL.Image.Image image mode=RGB size=32x32 at 0x7F8543AD3E80>: 100%|██████████| 1041/1041 [00:05<00:00, 191.85 Samples/s]                \n",
      "Processing <PIL.Image.Image image mode=RGB size=32x32 at 0x7F854F538518>:   0%|          | 1/1041 [00:00<03:07,  5.54 Samples/s]"
     ]
    },
    {
     "name": "stdout",
     "output_type": "stream",
     "text": [
      "Initialised with 959 image(s) found.\n",
      "Output directory set to /home/filip/Desktop/NEUMRE/Projekt/original-train-images/class-34."
     ]
    },
    {
     "name": "stderr",
     "output_type": "stream",
     "text": [
      "Processing <PIL.PngImagePlugin.PngImageFile image mode=RGB size=32x32 at 0x7F854F045DD8>: 100%|██████████| 1041/1041 [00:06<00:00, 150.77 Samples/s]\n",
      "Processing <PIL.Image.Image image mode=RGB size=32x32 at 0x7F854F2EF438>:   0%|          | 0/1490 [00:00<?, ? Samples/s]"
     ]
    },
    {
     "name": "stdout",
     "output_type": "stream",
     "text": [
      "Initialised with 510 image(s) found.\n",
      "Output directory set to /home/filip/Desktop/NEUMRE/Projekt/original-train-images/class-36."
     ]
    },
    {
     "name": "stderr",
     "output_type": "stream",
     "text": [
      "Processing <PIL.PngImagePlugin.PngImageFile image mode=RGB size=32x32 at 0x7F854F69E7B8>: 100%|██████████| 1490/1490 [00:08<00:00, 179.55 Samples/s]\n",
      "Processing <PIL.Image.Image image mode=RGB size=32x32 at 0x7F854F797B00>:   0%|          | 1/1490 [00:00<03:53,  6.37 Samples/s]                "
     ]
    },
    {
     "name": "stdout",
     "output_type": "stream",
     "text": [
      "Initialised with 510 image(s) found.\n",
      "Output directory set to /home/filip/Desktop/NEUMRE/Projekt/original-train-images/class-37."
     ]
    },
    {
     "name": "stderr",
     "output_type": "stream",
     "text": [
      "Processing <PIL.PngImagePlugin.PngImageFile image mode=RGB size=32x32 at 0x7F854F744A90>: 100%|██████████| 1490/1490 [00:09<00:00, 162.90 Samples/s]\n",
      "Processing <PIL.PngImagePlugin.PngImageFile image mode=RGB size=32x32 at 0x7F854F7BE0B8>:   0%|          | 1/1400 [00:00<03:01,  7.69 Samples/s]"
     ]
    },
    {
     "name": "stdout",
     "output_type": "stream",
     "text": [
      "Initialised with 600 image(s) found.\n",
      "Output directory set to /home/filip/Desktop/NEUMRE/Projekt/original-train-images/class-40."
     ]
    },
    {
     "name": "stderr",
     "output_type": "stream",
     "text": [
      "Processing <PIL.Image.Image image mode=RGB size=32x32 at 0x7F854F729828>: 100%|██████████| 1400/1400 [00:09<00:00, 151.31 Samples/s]                \n",
      "Executing Pipeline:   0%|          | 0/1790 [00:00<?, ? Samples/s]"
     ]
    },
    {
     "name": "stdout",
     "output_type": "stream",
     "text": [
      "Initialised with 210 image(s) found.\n",
      "Output directory set to /home/filip/Desktop/NEUMRE/Projekt/original-train-images/class-41."
     ]
    },
    {
     "name": "stderr",
     "output_type": "stream",
     "text": [
      "Processing <PIL.Image.Image image mode=RGB size=32x32 at 0x7F854F2E2390>: 100%|██████████| 1790/1790 [00:11<00:00, 149.98 Samples/s]                \n",
      "Executing Pipeline:   0%|          | 0/1790 [00:00<?, ? Samples/s]"
     ]
    },
    {
     "name": "stdout",
     "output_type": "stream",
     "text": [
      "Initialised with 210 image(s) found.\n",
      "Output directory set to /home/filip/Desktop/NEUMRE/Projekt/original-train-images/class-42."
     ]
    },
    {
     "name": "stderr",
     "output_type": "stream",
     "text": [
      "Processing <PIL.Image.Image image mode=RGB size=32x32 at 0x7F854F61C438>: 100%|██████████| 1790/1790 [00:12<00:00, 144.40 Samples/s]                \n"
     ]
    }
   ],
   "source": [
    "root_name = os.getcwd()+\"/original-train-images\"\n",
    "\n",
    "# We have to save the images to a folder because the augment library needs to have\n",
    "# the images saved in a file to be able to work with them\n",
    "\n",
    "save_images(root_name, X_train, y_train)\n",
    "augment_dataset(X_train, y_train, root_name)\n",
    "\n",
    "# After the augmentation is complete load the images into numpy so we can save them \n",
    "# in pickle format which is the native format we used for loading images in this project.\n",
    "X_extended_train, y_extended_train = load_images(root_name)\n",
    "shutil.rmtree(root_name)"
   ]
  },
  {
   "cell_type": "code",
   "execution_count": 99,
   "metadata": {},
   "outputs": [
    {
     "data": {
      "image/png": "[encoded data removed]",
      "text/plain": [
       "<Figure size 1332x396 with 1 Axes>"
      ]
     },
     "metadata": {
      "needs_background": "light"
     },
     "output_type": "display_data"
    }
   ],
   "source": [
    "plot_class_freq(y_extended_train)"
   ]
  },
  {
   "cell_type": "markdown",
   "metadata": {},
   "source": [
    "# Contrast Limited Adaptive Histogram Equalization"
   ]
  },
  {
   "cell_type": "code",
   "execution_count": 100,
   "metadata": {},
   "outputs": [],
   "source": [
    "import cv2"
   ]
  },
  {
   "cell_type": "code",
   "execution_count": 101,
   "metadata": {},
   "outputs": [],
   "source": [
    "def improve_contrast_image_using_clahe(img: np.array) -> np.array:\n",
    "    img = cv2.cvtColor(img, cv2.COLOR_BGR2HSV)\n",
    "    hsv_planes = cv2.split(img)\n",
    "    clahe = cv2.createCLAHE(clipLimit=2, tileGridSize=(3, 3))\n",
    "    hsv_planes[2] = clahe.apply(hsv_planes[2])\n",
    "    img = cv2.merge(hsv_planes)\n",
    "    img = cv2.cvtColor(img, cv2.COLOR_HSV2BGR)\n",
    "    return img"
   ]
  },
  {
   "cell_type": "code",
   "execution_count": 102,
   "metadata": {
    "scrolled": true
   },
   "outputs": [
    {
     "data": {
      "text/plain": [
       "<matplotlib.image.AxesImage at 0x7f8544b7a320>"
      ]
     },
     "execution_count": 102,
     "metadata": {},
     "output_type": "execute_result"
    },
    {
     "data": {
      "image/png": "[encoded data removed]",
      "text/plain": [
       "<Figure size 432x288 with 2 Axes>"
      ]
     },
     "metadata": {
      "needs_background": "light"
     },
     "output_type": "display_data"
    }
   ],
   "source": [
    "example = 1\n",
    "fig, ax = plt.subplots(1, 2)\n",
    "fig.suptitle('Horizontally stacked subplots')\n",
    "ax[0].imshow(X_train[example])\n",
    "ax[1].imshow(improve_contrast_image_using_clahe(X_train[example]))"
   ]
  },
  {
   "cell_type": "code",
   "execution_count": 103,
   "metadata": {},
   "outputs": [],
   "source": [
    "def apply_clahe(X):\n",
    "    X_final = []\n",
    "    for image in X:\n",
    "        X_final.append(improve_contrast_image_using_clahe(image))\n",
    "    return np.array(X_final)"
   ]
  },
  {
   "cell_type": "code",
   "execution_count": 104,
   "metadata": {},
   "outputs": [],
   "source": [
    "#X_final_train = apply_clahe(X_extended_train)\n",
    "#pickle_data(X_final_train, y_extended_train, \"Data/Preprocessed/train.p\")"
   ]
  },
  {
   "cell_type": "code",
   "execution_count": 105,
   "metadata": {},
   "outputs": [],
   "source": [
    "#X_valid, y_valid = unpickle_data(\"Data/Original/valid.p\")\n",
    "#X_final_valid = apply_clahe(X_valid)\n",
    "#pickle_data(X_final_valid, y_valid, \"Data/Preprocessed/valid.p\")"
   ]
  },
  {
   "cell_type": "code",
   "execution_count": 106,
   "metadata": {},
   "outputs": [],
   "source": [
    "#X_test, y_test = unpickle_data(\"Data/Original/test.p\")\n",
    "#X_final_test = apply_clahe(X_test)\n",
    "#pickle_data(X_final_test, y_test, \"Data/Preprocessed/test.p\")"
   ]
  }
 ],
 "metadata": {
  "kernelspec": {
   "display_name": "Python 3",
   "language": "python",
   "name": "python3"
  },
  "language_info": {
   "codemirror_mode": {
    "name": "ipython",
    "version": 3
   },
   "file_extension": ".py",
   "mimetype": "text/x-python",
   "name": "python",
   "nbconvert_exporter": "python",
   "pygments_lexer": "ipython3",
   "version": "3.7.3"
  }
 },
 "nbformat": 4,
 "nbformat_minor": 2
}
